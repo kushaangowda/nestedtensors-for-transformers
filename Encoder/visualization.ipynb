{
 "cells": [
  {
   "cell_type": "code",
   "execution_count": null,
   "metadata": {},
   "outputs": [],
   "source": [
    "import matplotlib.pyplot as plt\n",
    "import numpy as np\n",
    "\n",
    "x = [i+1 for i in range(200)]\n",
    "\n",
    "forward_times_padded = np.load(\"padding_time.npy\")\n",
    "forward_times_nested = np.load(\"nested_time.npy\")\n",
    "\n",
    "plt.figure(figsize=(14, 8))\n",
    "\n",
    "# Plot the data\n",
    "plt.plot(x, forward_times_padded, label=\"W/o Nested Tensors\", linestyle='-', marker='o', color='r')\n",
    "plt.plot(x, forward_times_nested, label=\"With Nested Tensors\", linestyle='--', marker='s', color='b')\n",
    "\n",
    "# Add labels, legend, and title\n",
    "plt.xlabel(\"Batches\")\n",
    "plt.ylabel(\"Time\")\n",
    "plt.title(\"Padding V/s Nested Tensors\")\n",
    "plt.legend()\n",
    "\n",
    "# Show the plot\n",
    "plt.show()"
   ]
  },
  {
   "cell_type": "code",
   "execution_count": null,
   "metadata": {},
   "outputs": [],
   "source": [
    "import matplotlib.pyplot as plt\n",
    "import numpy as np\n",
    "\n",
    "x = [i+1 for i in range(200)]\n",
    "\n",
    "avg_forward_times_padded = np.cumsum(forward_times_padded) / np.arange(1, len(forward_times_padded) + 1)\n",
    "avg_forward_times_nested = np.cumsum(forward_times_nested) / np.arange(1, len(forward_times_nested) + 1)\n",
    "\n",
    "plt.figure(figsize=(14, 8))\n",
    "\n",
    "plt.plot(x, avg_forward_times_padded, label=\"W/o Nested Tensors (Average)\", linestyle='-', color='darkred', linewidth=2)\n",
    "plt.plot(x, avg_forward_times_nested, label=\"With Nested Tensors (Average)\", linestyle='--', color='darkblue', linewidth=2)\n",
    "\n",
    "# Add labels, legend, and title\n",
    "plt.xlabel(\"Batches\")\n",
    "plt.ylabel(\"Time\")\n",
    "plt.title(\"Padding V/s Nested Tensors (Average Time)\")\n",
    "plt.legend()\n",
    "\n",
    "# Show the plot\n",
    "plt.show()"
   ]
  }
 ],
 "metadata": {
  "language_info": {
   "name": "python"
  }
 },
 "nbformat": 4,
 "nbformat_minor": 2
}
